{
 "cells": [
  {
   "cell_type": "code",
   "execution_count": 7,
   "metadata": {},
   "outputs": [],
   "source": [
    "import requests\n",
    "from bs4 import BeautifulSoup"
   ]
  },
  {
   "cell_type": "code",
   "execution_count": 8,
   "metadata": {},
   "outputs": [],
   "source": [
    "def get_url(url):\n",
    "    try:\n",
    "        r = requests.get(url)\n",
    "    except Exception as e:\n",
    "        print(e)\n",
    "        return None\n",
    "    else:\n",
    "        return r.text"
   ]
  },
  {
   "cell_type": "code",
   "execution_count": 18,
   "metadata": {},
   "outputs": [],
   "source": [
    "def GetIngrs(url):\n",
    "    bs = BeautifulSoup(get_url(url), 'lxml')\n",
    "    a = bs.findAll(\"div\", {\"class\": \"skladniki\"})\n",
    "    ings = a[0].find_all('li')\n",
    "        \n",
    "    clean_ings = []\n",
    "    \n",
    "    for item in ings:\n",
    "        a = item.text.split(' – ')\n",
    "        if(len(a)<2):\n",
    "            quantity=''\n",
    "        else:\n",
    "            quantity = a[1]\n",
    "        name = a[0]\n",
    "        clean_ings.append((name, quantity))\n",
    "        \n",
    "    a = bs.findAll(\"li\", {\"class\": \"meta_size\"})\n",
    "    if(len(a)>0 ):\n",
    "        n_portions = int(a[0].contents[0])\n",
    "    else:\n",
    "        n_portions = None\n",
    "    \n",
    "    return {'url':url,\n",
    "           'ingredients':clean_ings,\n",
    "           'portions':n_portions}"
   ]
  },
  {
   "cell_type": "code",
   "execution_count": null,
   "metadata": {},
   "outputs": [],
   "source": []
  },
  {
   "cell_type": "code",
   "execution_count": 20,
   "metadata": {},
   "outputs": [],
   "source": [
    "url = 'https://kuchnialidla.pl/serowe-oponki-z-sosem-malinowym'\n",
    "\n",
    "url = 'https://kuchnialidla.pl/domowa-kostka-rosolowa'\n",
    "# url = 'https://kuchnialidla.pl/zupa-krem-z-topinamburu'\n",
    "# url = 'https://kuchnialidla.pl/roladki-z-tortilli'\n",
    "\n",
    "dupa = GetIngrs(url)"
   ]
  },
  {
   "cell_type": "code",
   "execution_count": null,
   "metadata": {},
   "outputs": [],
   "source": [
    "#TO DO\n",
    "\n",
    "## zamienic quantity na -> quantity & unit"
   ]
  }
 ],
 "metadata": {
  "kernelspec": {
   "display_name": "Python 3",
   "language": "python",
   "name": "python3"
  },
  "language_info": {
   "codemirror_mode": {
    "name": "ipython",
    "version": 3
   },
   "file_extension": ".py",
   "mimetype": "text/x-python",
   "name": "python",
   "nbconvert_exporter": "python",
   "pygments_lexer": "ipython3",
   "version": "3.7.3"
  }
 },
 "nbformat": 4,
 "nbformat_minor": 2
}
