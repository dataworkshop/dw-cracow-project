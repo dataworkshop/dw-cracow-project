{
 "cells": [
  {
   "cell_type": "code",
   "execution_count": null,
   "metadata": {},
   "outputs": [],
   "source": [
    "import requests\n",
    "from bs4 import BeautifulSoup\n",
    "import pandas as pd\n",
    "import datetime\n",
    "import time"
   ]
  },
  {
   "cell_type": "code",
   "execution_count": null,
   "metadata": {},
   "outputs": [],
   "source": [
    "def get_url(url):\n",
    "    try:\n",
    "        r = requests.get(url)\n",
    "    except Exception as e:\n",
    "        print(e)\n",
    "        return None\n",
    "    else:\n",
    "        # do something if no exception\n",
    "        #print(f\"Status code:  {r.status_code}\")\n",
    "        #print(f\"Content type: {r.headers['content-type']}\")\n",
    "        # print(r.text[:1000])\n",
    "        return r.text"
   ]
  },
  {
   "cell_type": "code",
   "execution_count": 183,
   "metadata": {},
   "outputs": [],
   "source": [
    "kadencja = 8"
   ]
  },
  {
   "cell_type": "code",
   "execution_count": 184,
   "metadata": {},
   "outputs": [],
   "source": [
    "url = 'https://www.sejm.gov.pl/Sejm8.nsf/agent.xsp?symbol=posglos&NrKadencji='+str(kadencja)\n",
    "bs = BeautifulSoup(get_url(url), 'lxml')"
   ]
  },
  {
   "cell_type": "code",
   "execution_count": 185,
   "metadata": {},
   "outputs": [],
   "source": [
    "tab = bs.table\n",
    "#dir()"
   ]
  },
  {
   "cell_type": "code",
   "execution_count": 186,
   "metadata": {},
   "outputs": [],
   "source": [
    "glosowania = []\n",
    "nr_pos = None\n",
    "\n",
    "for row in tab.find_all('tr'):\n",
    "    \n",
    "    row_elements = row.find_all('td')\n",
    "    if(len(row_elements)):\n",
    "        try:\n",
    "            nr_pos = int(row_elements[0].text)\n",
    "            glosowania.append( [ nr_pos, row_elements[1].text,'https://www.sejm.gov.pl/Sejm8.nsf/' + row_elements[1].a.get('href'),row_elements[2].text ] )\n",
    "        except:\n",
    "            glosowania.append( [ nr_pos, row_elements[1].text,'https://www.sejm.gov.pl/Sejm8.nsf/' + row_elements[1].a.get('href'),row_elements[2].text ] )\n",
    "            pass\n",
    "        \n",
    "#glosowania  "
   ]
  },
  {
   "cell_type": "code",
   "execution_count": 187,
   "metadata": {},
   "outputs": [],
   "source": [
    "miesiace = ['stycznia', 'lutego', 'marca', 'kwietnia','maja', 'czerwca',\n",
    "            'lipca', 'sierpnia','września', 'października', 'listopada', 'grudnia']\n",
    "\n",
    "for row in glosowania:\n",
    "    string = row[1].split(' ')\n",
    "    row[1] = datetime.datetime(int(string[2]), miesiace.index(string[1]) +1 , int(string[0])  )"
   ]
  },
  {
   "cell_type": "code",
   "execution_count": 188,
   "metadata": {},
   "outputs": [],
   "source": [
    "df = pd.DataFrame(glosowania, columns=['nr_pos','data','url','liczba_glos'])\n",
    "df['kadencja'] = kadencja\n",
    "df.to_csv('glosowania.csv',index=False)"
   ]
  },
  {
   "cell_type": "code",
   "execution_count": 189,
   "metadata": {},
   "outputs": [
    {
     "data": {
      "text/html": [
       "<div>\n",
       "<style scoped>\n",
       "    .dataframe tbody tr th:only-of-type {\n",
       "        vertical-align: middle;\n",
       "    }\n",
       "\n",
       "    .dataframe tbody tr th {\n",
       "        vertical-align: top;\n",
       "    }\n",
       "\n",
       "    .dataframe thead th {\n",
       "        text-align: right;\n",
       "    }\n",
       "</style>\n",
       "<table border=\"1\" class=\"dataframe\">\n",
       "  <thead>\n",
       "    <tr style=\"text-align: right;\">\n",
       "      <th></th>\n",
       "      <th>nr_pos</th>\n",
       "      <th>data</th>\n",
       "      <th>url</th>\n",
       "      <th>liczba_glos</th>\n",
       "      <th>kadencja</th>\n",
       "    </tr>\n",
       "  </thead>\n",
       "  <tbody>\n",
       "    <tr>\n",
       "      <th>0</th>\n",
       "      <td>86</td>\n",
       "      <td>2019-09-11</td>\n",
       "      <td>https://www.sejm.gov.pl/Sejm8.nsf/agent.xsp?sy...</td>\n",
       "      <td>88</td>\n",
       "      <td>8</td>\n",
       "    </tr>\n",
       "    <tr>\n",
       "      <th>1</th>\n",
       "      <td>86</td>\n",
       "      <td>2019-10-16</td>\n",
       "      <td>https://www.sejm.gov.pl/Sejm8.nsf/agent.xsp?sy...</td>\n",
       "      <td>38</td>\n",
       "      <td>8</td>\n",
       "    </tr>\n",
       "    <tr>\n",
       "      <th>2</th>\n",
       "      <td>85</td>\n",
       "      <td>2019-07-31</td>\n",
       "      <td>https://www.sejm.gov.pl/Sejm8.nsf/agent.xsp?sy...</td>\n",
       "      <td>24</td>\n",
       "      <td>8</td>\n",
       "    </tr>\n",
       "    <tr>\n",
       "      <th>3</th>\n",
       "      <td>85</td>\n",
       "      <td>2019-08-09</td>\n",
       "      <td>https://www.sejm.gov.pl/Sejm8.nsf/agent.xsp?sy...</td>\n",
       "      <td>11</td>\n",
       "      <td>8</td>\n",
       "    </tr>\n",
       "    <tr>\n",
       "      <th>4</th>\n",
       "      <td>85</td>\n",
       "      <td>2019-08-30</td>\n",
       "      <td>https://www.sejm.gov.pl/Sejm8.nsf/agent.xsp?sy...</td>\n",
       "      <td>38</td>\n",
       "      <td>8</td>\n",
       "    </tr>\n",
       "    <tr>\n",
       "      <th>5</th>\n",
       "      <td>84</td>\n",
       "      <td>2019-07-17</td>\n",
       "      <td>https://www.sejm.gov.pl/Sejm8.nsf/agent.xsp?sy...</td>\n",
       "      <td>7</td>\n",
       "      <td>8</td>\n",
       "    </tr>\n",
       "    <tr>\n",
       "      <th>6</th>\n",
       "      <td>84</td>\n",
       "      <td>2019-07-19</td>\n",
       "      <td>https://www.sejm.gov.pl/Sejm8.nsf/agent.xsp?sy...</td>\n",
       "      <td>169</td>\n",
       "      <td>8</td>\n",
       "    </tr>\n",
       "    <tr>\n",
       "      <th>7</th>\n",
       "      <td>83</td>\n",
       "      <td>2019-07-03</td>\n",
       "      <td>https://www.sejm.gov.pl/Sejm8.nsf/agent.xsp?sy...</td>\n",
       "      <td>7</td>\n",
       "      <td>8</td>\n",
       "    </tr>\n",
       "    <tr>\n",
       "      <th>8</th>\n",
       "      <td>83</td>\n",
       "      <td>2019-07-04</td>\n",
       "      <td>https://www.sejm.gov.pl/Sejm8.nsf/agent.xsp?sy...</td>\n",
       "      <td>111</td>\n",
       "      <td>8</td>\n",
       "    </tr>\n",
       "    <tr>\n",
       "      <th>9</th>\n",
       "      <td>82</td>\n",
       "      <td>2019-06-12</td>\n",
       "      <td>https://www.sejm.gov.pl/Sejm8.nsf/agent.xsp?sy...</td>\n",
       "      <td>6</td>\n",
       "      <td>8</td>\n",
       "    </tr>\n",
       "  </tbody>\n",
       "</table>\n",
       "</div>"
      ],
      "text/plain": [
       "   nr_pos       data                                                url  \\\n",
       "0      86 2019-09-11  https://www.sejm.gov.pl/Sejm8.nsf/agent.xsp?sy...   \n",
       "1      86 2019-10-16  https://www.sejm.gov.pl/Sejm8.nsf/agent.xsp?sy...   \n",
       "2      85 2019-07-31  https://www.sejm.gov.pl/Sejm8.nsf/agent.xsp?sy...   \n",
       "3      85 2019-08-09  https://www.sejm.gov.pl/Sejm8.nsf/agent.xsp?sy...   \n",
       "4      85 2019-08-30  https://www.sejm.gov.pl/Sejm8.nsf/agent.xsp?sy...   \n",
       "5      84 2019-07-17  https://www.sejm.gov.pl/Sejm8.nsf/agent.xsp?sy...   \n",
       "6      84 2019-07-19  https://www.sejm.gov.pl/Sejm8.nsf/agent.xsp?sy...   \n",
       "7      83 2019-07-03  https://www.sejm.gov.pl/Sejm8.nsf/agent.xsp?sy...   \n",
       "8      83 2019-07-04  https://www.sejm.gov.pl/Sejm8.nsf/agent.xsp?sy...   \n",
       "9      82 2019-06-12  https://www.sejm.gov.pl/Sejm8.nsf/agent.xsp?sy...   \n",
       "\n",
       "  liczba_glos  kadencja  \n",
       "0          88         8  \n",
       "1          38         8  \n",
       "2          24         8  \n",
       "3          11         8  \n",
       "4          38         8  \n",
       "5           7         8  \n",
       "6         169         8  \n",
       "7           7         8  \n",
       "8         111         8  \n",
       "9           6         8  "
      ]
     },
     "execution_count": 189,
     "metadata": {},
     "output_type": "execute_result"
    }
   ],
   "source": [
    "df[:10]"
   ]
  },
  {
   "cell_type": "markdown",
   "metadata": {},
   "source": [
    "# part II"
   ]
  },
  {
   "cell_type": "code",
   "execution_count": 190,
   "metadata": {},
   "outputs": [],
   "source": [
    "df = pd.read_csv('glosowania.csv')"
   ]
  },
  {
   "cell_type": "code",
   "execution_count": 191,
   "metadata": {},
   "outputs": [],
   "source": [
    "def get_daily_poll(df_row):\n",
    "    glosowanie_daily = []\n",
    "    url_core = 'https://www.sejm.gov.pl/Sejm8.nsf/'\n",
    "\n",
    "    url = df_row['url']\n",
    "    nr_posiedzenia = df_row['nr_pos']\n",
    "    data = df_row['data']\n",
    "    kadencja = df_row['kadencja']\n",
    "    \n",
    "    bs = BeautifulSoup(get_url(url), 'lxml')\n",
    "    tab = bs.table\n",
    "\n",
    "    for row in tab.find_all('tr'):\n",
    "        row_elements = row.find_all('td')\n",
    "        if(len(row_elements)):\n",
    "            try:\n",
    "                glosowanie_daily.append([row_elements[0].text,url_core + row_elements[0].a.get('href'),\n",
    "                                       row_elements[1].text, row_elements[2].text, nr_posiedzenia, data, kadencja ] )\n",
    "            except Exception as e:\n",
    "                print(e)\n",
    "                pass\n",
    "            \n",
    "    df_daily = pd.DataFrame(glosowanie_daily, columns=['#_w_dniu','url','godzina','opis','nr_posiedzenia','data', 'kadencja'])\n",
    "    return df_daily"
   ]
  },
  {
   "cell_type": "code",
   "execution_count": 192,
   "metadata": {},
   "outputs": [],
   "source": [
    "df_main = pd.DataFrame([], columns=['#_w_dniu','url','godzina','opis','nr_posiedzenia','data', 'kadencja'])\n",
    "\n",
    "for i in range(len(df)):\n",
    "    time.sleep(1)\n",
    "    a=get_daily_poll(df.loc[i])\n",
    "    df_main =df_main.append( a )"
   ]
  },
  {
   "cell_type": "code",
   "execution_count": 193,
   "metadata": {},
   "outputs": [],
   "source": [
    "df_main.to_csv('all_glosowania_'+str(kadencja)+'.csv',index=False)\n",
    "#df_main"
   ]
  },
  {
   "cell_type": "code",
   "execution_count": 194,
   "metadata": {},
   "outputs": [
    {
     "data": {
      "text/plain": [
       "8180"
      ]
     },
     "execution_count": 194,
     "metadata": {},
     "output_type": "execute_result"
    }
   ],
   "source": [
    "len(df_main)"
   ]
  },
  {
   "cell_type": "code",
   "execution_count": 195,
   "metadata": {},
   "outputs": [
    {
     "data": {
      "text/html": [
       "<div>\n",
       "<style scoped>\n",
       "    .dataframe tbody tr th:only-of-type {\n",
       "        vertical-align: middle;\n",
       "    }\n",
       "\n",
       "    .dataframe tbody tr th {\n",
       "        vertical-align: top;\n",
       "    }\n",
       "\n",
       "    .dataframe thead th {\n",
       "        text-align: right;\n",
       "    }\n",
       "</style>\n",
       "<table border=\"1\" class=\"dataframe\">\n",
       "  <thead>\n",
       "    <tr style=\"text-align: right;\">\n",
       "      <th></th>\n",
       "      <th>#_w_dniu</th>\n",
       "      <th>url</th>\n",
       "      <th>godzina</th>\n",
       "      <th>opis</th>\n",
       "      <th>nr_posiedzenia</th>\n",
       "      <th>data</th>\n",
       "      <th>kadencja</th>\n",
       "    </tr>\n",
       "  </thead>\n",
       "  <tbody>\n",
       "    <tr>\n",
       "      <th>59</th>\n",
       "      <td>60</td>\n",
       "      <td>https://www.sejm.gov.pl/Sejm8.nsf/agent.xsp?sy...</td>\n",
       "      <td>20:36:42</td>\n",
       "      <td>Pkt 6. porz. dzien. Pierwsze czytanie poselski...</td>\n",
       "      <td>15</td>\n",
       "      <td>2016-03-31</td>\n",
       "      <td>8</td>\n",
       "    </tr>\n",
       "    <tr>\n",
       "      <th>23</th>\n",
       "      <td>26</td>\n",
       "      <td>https://www.sejm.gov.pl/Sejm8.nsf/agent.xsp?sy...</td>\n",
       "      <td>10:28:32</td>\n",
       "      <td>Pkt 9. porz. dzien. Sprawozdanie Komisji o rzą...</td>\n",
       "      <td>36</td>\n",
       "      <td>2017-02-24</td>\n",
       "      <td>8</td>\n",
       "    </tr>\n",
       "    <tr>\n",
       "      <th>21</th>\n",
       "      <td>41</td>\n",
       "      <td>https://www.sejm.gov.pl/Sejm8.nsf/agent.xsp?sy...</td>\n",
       "      <td>23:03:49</td>\n",
       "      <td>Pkt 12. porz. dzien. Wybór członków Trybunału ...</td>\n",
       "      <td>1</td>\n",
       "      <td>2015-11-18</td>\n",
       "      <td>8</td>\n",
       "    </tr>\n",
       "    <tr>\n",
       "      <th>125</th>\n",
       "      <td>126</td>\n",
       "      <td>https://www.sejm.gov.pl/Sejm8.nsf/agent.xsp?sy...</td>\n",
       "      <td>11:21:05</td>\n",
       "      <td>Pkt 1. porz. dzien. Sprawozdanie Komisji o rzą...</td>\n",
       "      <td>76</td>\n",
       "      <td>2019-01-16</td>\n",
       "      <td>8</td>\n",
       "    </tr>\n",
       "    <tr>\n",
       "      <th>2</th>\n",
       "      <td>3</td>\n",
       "      <td>https://www.sejm.gov.pl/Sejm8.nsf/agent.xsp?sy...</td>\n",
       "      <td>10:25:21</td>\n",
       "      <td>68. posiedzenie Sejmu Rzeczypospolitej Polskie...</td>\n",
       "      <td>68</td>\n",
       "      <td>2018-09-12</td>\n",
       "      <td>8</td>\n",
       "    </tr>\n",
       "    <tr>\n",
       "      <th>51</th>\n",
       "      <td>64</td>\n",
       "      <td>https://www.sejm.gov.pl/Sejm8.nsf/agent.xsp?sy...</td>\n",
       "      <td>20:30:26</td>\n",
       "      <td>Pkt 23. porz. dzien. Sprawozdanie Komisji o rz...</td>\n",
       "      <td>69</td>\n",
       "      <td>2018-10-04</td>\n",
       "      <td>8</td>\n",
       "    </tr>\n",
       "    <tr>\n",
       "      <th>83</th>\n",
       "      <td>84</td>\n",
       "      <td>https://www.sejm.gov.pl/Sejm8.nsf/agent.xsp?sy...</td>\n",
       "      <td>22:18:38</td>\n",
       "      <td>Pkt 3. porz. dzien. Sprawozdanie Komisji o rzą...</td>\n",
       "      <td>86</td>\n",
       "      <td>2019-09-11</td>\n",
       "      <td>8</td>\n",
       "    </tr>\n",
       "    <tr>\n",
       "      <th>96</th>\n",
       "      <td>109</td>\n",
       "      <td>https://www.sejm.gov.pl/Sejm8.nsf/agent.xsp?sy...</td>\n",
       "      <td>13:06:44</td>\n",
       "      <td>Pkt 38. porz. dzien. Sprawozdanie Komisji o uc...</td>\n",
       "      <td>67</td>\n",
       "      <td>2018-07-20</td>\n",
       "      <td>8</td>\n",
       "    </tr>\n",
       "    <tr>\n",
       "      <th>34</th>\n",
       "      <td>37</td>\n",
       "      <td>https://www.sejm.gov.pl/Sejm8.nsf/agent.xsp?sy...</td>\n",
       "      <td>11:45:19</td>\n",
       "      <td>Pkt 13. porz. dzien. Pierwsze czytanie rządowe...</td>\n",
       "      <td>78</td>\n",
       "      <td>2019-03-15</td>\n",
       "      <td>8</td>\n",
       "    </tr>\n",
       "    <tr>\n",
       "      <th>92</th>\n",
       "      <td>100</td>\n",
       "      <td>https://www.sejm.gov.pl/Sejm8.nsf/agent.xsp?sy...</td>\n",
       "      <td>22:11:15</td>\n",
       "      <td>Pkt 28. porz. dzien. Sprawozdanie Komisji o po...</td>\n",
       "      <td>83</td>\n",
       "      <td>2019-07-04</td>\n",
       "      <td>8</td>\n",
       "    </tr>\n",
       "  </tbody>\n",
       "</table>\n",
       "</div>"
      ],
      "text/plain": [
       "    #_w_dniu                                                url   godzina  \\\n",
       "59        60  https://www.sejm.gov.pl/Sejm8.nsf/agent.xsp?sy...  20:36:42   \n",
       "23        26  https://www.sejm.gov.pl/Sejm8.nsf/agent.xsp?sy...  10:28:32   \n",
       "21        41  https://www.sejm.gov.pl/Sejm8.nsf/agent.xsp?sy...  23:03:49   \n",
       "125      126  https://www.sejm.gov.pl/Sejm8.nsf/agent.xsp?sy...  11:21:05   \n",
       "2          3  https://www.sejm.gov.pl/Sejm8.nsf/agent.xsp?sy...  10:25:21   \n",
       "51        64  https://www.sejm.gov.pl/Sejm8.nsf/agent.xsp?sy...  20:30:26   \n",
       "83        84  https://www.sejm.gov.pl/Sejm8.nsf/agent.xsp?sy...  22:18:38   \n",
       "96       109  https://www.sejm.gov.pl/Sejm8.nsf/agent.xsp?sy...  13:06:44   \n",
       "34        37  https://www.sejm.gov.pl/Sejm8.nsf/agent.xsp?sy...  11:45:19   \n",
       "92       100  https://www.sejm.gov.pl/Sejm8.nsf/agent.xsp?sy...  22:11:15   \n",
       "\n",
       "                                                  opis nr_posiedzenia  \\\n",
       "59   Pkt 6. porz. dzien. Pierwsze czytanie poselski...             15   \n",
       "23   Pkt 9. porz. dzien. Sprawozdanie Komisji o rzą...             36   \n",
       "21   Pkt 12. porz. dzien. Wybór członków Trybunału ...              1   \n",
       "125  Pkt 1. porz. dzien. Sprawozdanie Komisji o rzą...             76   \n",
       "2    68. posiedzenie Sejmu Rzeczypospolitej Polskie...             68   \n",
       "51   Pkt 23. porz. dzien. Sprawozdanie Komisji o rz...             69   \n",
       "83   Pkt 3. porz. dzien. Sprawozdanie Komisji o rzą...             86   \n",
       "96   Pkt 38. porz. dzien. Sprawozdanie Komisji o uc...             67   \n",
       "34   Pkt 13. porz. dzien. Pierwsze czytanie rządowe...             78   \n",
       "92   Pkt 28. porz. dzien. Sprawozdanie Komisji o po...             83   \n",
       "\n",
       "           data kadencja  \n",
       "59   2016-03-31        8  \n",
       "23   2017-02-24        8  \n",
       "21   2015-11-18        8  \n",
       "125  2019-01-16        8  \n",
       "2    2018-09-12        8  \n",
       "51   2018-10-04        8  \n",
       "83   2019-09-11        8  \n",
       "96   2018-07-20        8  \n",
       "34   2019-03-15        8  \n",
       "92   2019-07-04        8  "
      ]
     },
     "execution_count": 195,
     "metadata": {},
     "output_type": "execute_result"
    }
   ],
   "source": [
    "df_main.sample(10)"
   ]
  },
  {
   "cell_type": "code",
   "execution_count": null,
   "metadata": {},
   "outputs": [],
   "source": [
    "## pakiet tqdm \n",
    "## %%time"
   ]
  },
  {
   "cell_type": "code",
   "execution_count": null,
   "metadata": {},
   "outputs": [],
   "source": []
  },
  {
   "cell_type": "code",
   "execution_count": null,
   "metadata": {},
   "outputs": [],
   "source": []
  },
  {
   "cell_type": "code",
   "execution_count": 196,
   "metadata": {},
   "outputs": [],
   "source": [
    "### laczenie ###\n",
    "df = pd.read_csv('all_glosowania_7.csv')\n",
    "df = df.append( pd.read_csv('all_glosowania_8.csv') )\n",
    "df = df.append( pd.read_csv('all_glosowania_9.csv') )\n",
    "\n",
    "df.to_csv('all_glosowania.csv',index=False)\n"
   ]
  },
  {
   "cell_type": "code",
   "execution_count": 199,
   "metadata": {},
   "outputs": [
    {
     "data": {
      "text/plain": [
       "14530"
      ]
     },
     "execution_count": 199,
     "metadata": {},
     "output_type": "execute_result"
    }
   ],
   "source": [
    "#df.sample(10)\n",
    "len(df)"
   ]
  }
 ],
 "metadata": {
  "kernelspec": {
   "display_name": "Python 3",
   "language": "python",
   "name": "python3"
  },
  "language_info": {
   "codemirror_mode": {
    "name": "ipython",
    "version": 3
   },
   "file_extension": ".py",
   "mimetype": "text/x-python",
   "name": "python",
   "nbconvert_exporter": "python",
   "pygments_lexer": "ipython3",
   "version": "3.7.3"
  }
 },
 "nbformat": 4,
 "nbformat_minor": 2
}
