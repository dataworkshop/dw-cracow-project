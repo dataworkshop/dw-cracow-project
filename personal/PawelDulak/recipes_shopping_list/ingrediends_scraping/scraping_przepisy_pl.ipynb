{
 "cells": [
  {
   "cell_type": "markdown",
   "metadata": {},
   "source": [
    "# Krótki opis:\n",
    "\n",
    "Scraper widoczny poniżej ma za zadanie pobierać listę składników potrawy. Działa wyłącznie na stronie przepisy.pl\n",
    "\n",
    "Kod jest przygotowany do pobierania danych z jednej konkretnej strony (adresu URL). Przerobienie go na pobieranie większej ilości danych zostawiam jako pracę dla Czytelnika :)"
   ]
  },
  {
   "cell_type": "code",
   "execution_count": 1,
   "metadata": {},
   "outputs": [],
   "source": [
    "import requests\n",
    "from bs4 import BeautifulSoup\n",
    "import pandas as pd"
   ]
  },
  {
   "cell_type": "markdown",
   "metadata": {},
   "source": [
    "## Get the page from the server"
   ]
  },
  {
   "cell_type": "code",
   "execution_count": 2,
   "metadata": {},
   "outputs": [],
   "source": [
    "url_to_get = 'https://www.przepisy.pl/przepis/ciasto-jogurtowe-z-brzoskwiniami-12078'"
   ]
  },
  {
   "cell_type": "code",
   "execution_count": 3,
   "metadata": {},
   "outputs": [],
   "source": [
    "bs = BeautifulSoup(requests.get(url_to_get).text, 'lxml')"
   ]
  },
  {
   "cell_type": "markdown",
   "metadata": {},
   "source": [
    "## Extract ingredients"
   ]
  },
  {
   "cell_type": "code",
   "execution_count": 13,
   "metadata": {},
   "outputs": [],
   "source": [
    "ingredients_list = bs.select('div.ingredients-list-content-item')"
   ]
  },
  {
   "cell_type": "code",
   "execution_count": 27,
   "metadata": {},
   "outputs": [
    {
     "name": "stdout",
     "output_type": "stream",
     "text": [
      "<div _ngcontent-sc72=\"\" class=\"ingredients-list-content-item\"><p _ngcontent-sc72=\"\" class=\"ingredient-name\"><label _ngcontent-sc72=\"\" class=\"label-checkbox\"><input _ngcontent-sc72=\"\" type=\"checkbox\"/><span _ngcontent-sc72=\"\" class=\"label-checkbox-box\"><img _ngcontent-sc72=\"\" alt=\"✓\" src=\"ng-assets/icons-svg/check-solid-white.svg\"/></span><!-- --><!-- --><span _ngcontent-sc72=\"\" class=\"label-checkbox-text ng-star-inserted\"><span _ngcontent-sc72=\"\" class=\"text-bg-white\"> jogurt naturalny </span></span></label></p><p _ngcontent-sc72=\"\" class=\"quantity\"><span _ngcontent-sc72=\"\" class=\"text-bg-white\"> 200 mililitrów </span></p></div>\n",
      "---\n",
      "200 mililitrów\n"
     ]
    },
    {
     "ename": "AttributeError",
     "evalue": "'str' object has no attribute 'text'",
     "output_type": "error",
     "traceback": [
      "\u001b[0;31m---------------------------------------------------------------------------\u001b[0m",
      "\u001b[0;31mAttributeError\u001b[0m                            Traceback (most recent call last)",
      "\u001b[0;32m<ipython-input-27-956afa3322b4>\u001b[0m in \u001b[0;36m<module>\u001b[0;34m\u001b[0m\n\u001b[1;32m      9\u001b[0m \u001b[0;34m\u001b[0m\u001b[0m\n\u001b[1;32m     10\u001b[0m     \u001b[0;32mif\u001b[0m \u001b[0mingredient_quantity_tag\u001b[0m\u001b[0;34m:\u001b[0m\u001b[0;34m\u001b[0m\u001b[0;34m\u001b[0m\u001b[0m\n\u001b[0;32m---> 11\u001b[0;31m         \u001b[0mingredient_quantity\u001b[0m \u001b[0;34m=\u001b[0m \u001b[0mingredient_quantity_tag\u001b[0m\u001b[0;34m.\u001b[0m\u001b[0mtext\u001b[0m\u001b[0;34m\u001b[0m\u001b[0;34m\u001b[0m\u001b[0m\n\u001b[0m\u001b[1;32m     12\u001b[0m     \u001b[0;32melse\u001b[0m\u001b[0;34m:\u001b[0m\u001b[0;34m\u001b[0m\u001b[0;34m\u001b[0m\u001b[0m\n\u001b[1;32m     13\u001b[0m         \u001b[0mingredient_quantity\u001b[0m \u001b[0;34m=\u001b[0m \u001b[0;34m'---'\u001b[0m\u001b[0;34m\u001b[0m\u001b[0;34m\u001b[0m\u001b[0m\n",
      "\u001b[0;31mAttributeError\u001b[0m: 'str' object has no attribute 'text'"
     ]
    }
   ],
   "source": [
    "ingredients = []\n",
    "\n",
    "for ingredient_li in ingredients_list:\n",
    "    print(ingredient_li)\n",
    "    ingredient_name = ingredient_li.select_one('p.ingredient-name span.text-bg-white').text.strip()\n",
    "    print('---')\n",
    "    ingredient_quantity_tag = ingredient_li.select_one('p.quantity span.text-bg-white').text.strip()\n",
    "    print(ingredient_quantity_tag)\n",
    "    \n",
    "    if ingredient_quantity_tag:\n",
    "        ingredient_quantity = ingredient_quantity_tag.text\n",
    "    else: \n",
    "        ingredient_quantity = '---'\n",
    "    \n",
    "    ingredients.append( [url_to_get, ingredient_name, ingredient_quantity] )"
   ]
  },
  {
   "cell_type": "markdown",
   "metadata": {},
   "source": [
    "## Prepare dataframe"
   ]
  },
  {
   "cell_type": "code",
   "execution_count": 6,
   "metadata": {},
   "outputs": [],
   "source": [
    "ingredients_df = pd.DataFrame(ingredients, columns=['URL','nazwa_skladnika','ilosc'])"
   ]
  },
  {
   "cell_type": "code",
   "execution_count": 7,
   "metadata": {},
   "outputs": [
    {
     "data": {
      "text/html": [
       "<div>\n",
       "<style scoped>\n",
       "    .dataframe tbody tr th:only-of-type {\n",
       "        vertical-align: middle;\n",
       "    }\n",
       "\n",
       "    .dataframe tbody tr th {\n",
       "        vertical-align: top;\n",
       "    }\n",
       "\n",
       "    .dataframe thead th {\n",
       "        text-align: right;\n",
       "    }\n",
       "</style>\n",
       "<table border=\"1\" class=\"dataframe\">\n",
       "  <thead>\n",
       "    <tr style=\"text-align: right;\">\n",
       "      <th></th>\n",
       "      <th>URL</th>\n",
       "      <th>nazwa_skladnika</th>\n",
       "      <th>ilosc</th>\n",
       "    </tr>\n",
       "  </thead>\n",
       "  <tbody>\n",
       "    <tr>\n",
       "      <th>0</th>\n",
       "      <td>https://www.przepisy.pl/przepis/ciasto-jogurto...</td>\n",
       "      <td>jogurt naturalny</td>\n",
       "      <td>200 ml</td>\n",
       "    </tr>\n",
       "    <tr>\n",
       "      <th>1</th>\n",
       "      <td>https://www.przepisy.pl/przepis/ciasto-jogurto...</td>\n",
       "      <td>mąka</td>\n",
       "      <td>340 g</td>\n",
       "    </tr>\n",
       "    <tr>\n",
       "      <th>2</th>\n",
       "      <td>https://www.przepisy.pl/przepis/ciasto-jogurto...</td>\n",
       "      <td>Kostka do pieczenia Kasia</td>\n",
       "      <td>200 g</td>\n",
       "    </tr>\n",
       "    <tr>\n",
       "      <th>3</th>\n",
       "      <td>https://www.przepisy.pl/przepis/ciasto-jogurto...</td>\n",
       "      <td>cukier</td>\n",
       "      <td>250 g</td>\n",
       "    </tr>\n",
       "    <tr>\n",
       "      <th>4</th>\n",
       "      <td>https://www.przepisy.pl/przepis/ciasto-jogurto...</td>\n",
       "      <td>jajko</td>\n",
       "      <td>3 szt.</td>\n",
       "    </tr>\n",
       "    <tr>\n",
       "      <th>5</th>\n",
       "      <td>https://www.przepisy.pl/przepis/ciasto-jogurto...</td>\n",
       "      <td>proszek do pieczenia</td>\n",
       "      <td>2 łyżeczki</td>\n",
       "    </tr>\n",
       "    <tr>\n",
       "      <th>6</th>\n",
       "      <td>https://www.przepisy.pl/przepis/ciasto-jogurto...</td>\n",
       "      <td>brzoskwinie w syropie</td>\n",
       "      <td>400 g</td>\n",
       "    </tr>\n",
       "    <tr>\n",
       "      <th>7</th>\n",
       "      <td>https://www.przepisy.pl/przepis/ciasto-jogurto...</td>\n",
       "      <td>cukier puder</td>\n",
       "      <td>---</td>\n",
       "    </tr>\n",
       "  </tbody>\n",
       "</table>\n",
       "</div>"
      ],
      "text/plain": [
       "                                                 URL  \\\n",
       "0  https://www.przepisy.pl/przepis/ciasto-jogurto...   \n",
       "1  https://www.przepisy.pl/przepis/ciasto-jogurto...   \n",
       "2  https://www.przepisy.pl/przepis/ciasto-jogurto...   \n",
       "3  https://www.przepisy.pl/przepis/ciasto-jogurto...   \n",
       "4  https://www.przepisy.pl/przepis/ciasto-jogurto...   \n",
       "5  https://www.przepisy.pl/przepis/ciasto-jogurto...   \n",
       "6  https://www.przepisy.pl/przepis/ciasto-jogurto...   \n",
       "7  https://www.przepisy.pl/przepis/ciasto-jogurto...   \n",
       "\n",
       "             nazwa_skladnika       ilosc  \n",
       "0           jogurt naturalny      200 ml  \n",
       "1                       mąka       340 g  \n",
       "2  Kostka do pieczenia Kasia       200 g  \n",
       "3                     cukier       250 g  \n",
       "4                      jajko      3 szt.  \n",
       "5       proszek do pieczenia  2 łyżeczki  \n",
       "6     brzoskwinie w syropie        400 g  \n",
       "7               cukier puder         ---  "
      ]
     },
     "execution_count": 7,
     "metadata": {},
     "output_type": "execute_result"
    }
   ],
   "source": [
    "ingredients_df"
   ]
  },
  {
   "cell_type": "markdown",
   "metadata": {},
   "source": [
    "## Save to CSV file"
   ]
  },
  {
   "cell_type": "code",
   "execution_count": 8,
   "metadata": {},
   "outputs": [],
   "source": [
    "ingredients_df.to_csv('ingredients.csv', index=False, header=True)"
   ]
  }
 ],
 "metadata": {
  "kernelspec": {
   "display_name": "Python 3",
   "language": "python",
   "name": "python3"
  },
  "language_info": {
   "codemirror_mode": {
    "name": "ipython",
    "version": 3
   },
   "file_extension": ".py",
   "mimetype": "text/x-python",
   "name": "python",
   "nbconvert_exporter": "python",
   "pygments_lexer": "ipython3",
   "version": "3.7.1"
  }
 },
 "nbformat": 4,
 "nbformat_minor": 2
}
